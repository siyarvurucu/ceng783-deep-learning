{
 "cells": [
  {
   "cell_type": "markdown",
   "metadata": {},
   "source": [
    "# Implementing a denoising autoencoder\n",
    "\n",
    "*Complete and hand in this completed worksheet (including its outputs and any supporting code outside of the worksheet) with your assignment submission. For more details see the [HW page](http://kovan.ceng.metu.edu.tr/~sinan/DL/index.html) on the course website.*\n",
    "\n",
    "In this exercise we will develop a denoising autoencoder, and test it out on the MNIST dataset."
   ]
  },
  {
   "cell_type": "code",
   "execution_count": 4,
   "metadata": {},File
Edit
View
Insert
Cell
Kernel
Help
￼￼￼￼￼￼￼￼Run￼￼￼
   "outputs": [],
   "source": [
    "# A bit of setup\n",
    "\n",
    "import numpy as np\n",
    "import matplotlib.pyplot as plt\n",
    "\n",
    "%matplotlib inline\n",
    "plt.rcParams['figure.figsize'] = (10.0, 8.0) # set default size of plots\n",
    "plt.rcParams['image.interpolation'] = 'nearest'\n",
    "plt.rcParams['image.cmap'] = 'gray'\n",
    "\n",
    "# for auto-reloading external modules\n",
    "# see http://stackoverflow.com/questions/1907993/autoreload-of-modules-in-ipython\n",
    "%load_ext autoreload\n",
    "%autoreload 2\n",
    "\n",
    "def rel_error(x, y):\n",
    "  \"\"\" returns relative error \"\"\"\n",
    "  return np.max(np.abs(x - y) / (np.maximum(1e-8, np.abs(x) + np.abs(y))))"
   ]
  },
  {
   "cell_type": "markdown",
   "metadata": {},
   "source": [
    "We will use the class `DenoisingAutoencoder` in the file `METU/denoising_autoencoder.py` to represent instances of our network. The network parameters are stored in the instance variable `self.params` where keys are string parameter names and values are numpy arrays. Below, we initialize toy data and a toy model that we will use to develop your implementation."
   ]
  },
  {
   "cell_type": "code",
   "execution_count": 5,
   "metadata": {},
   "outputs": [
    {
     "name": "stdout",
     "output_type": "stream",
     "text": [
      "Ok, now we have a toy network\n"
     ]
    }
   ],
   "source": [
    "from METU.denoising_autoencoder import DenoisingAutoencoder\n",
    "from METU.Noise import Noise, GaussianNoise\n",
    "\n",
    "# Create a small net and some toy data to check your implementations.\n",
    "# Note that we set the random seed for repeatable experiments.\n",
    "\n",
    "input_size = 4\n",
    "hidden_size = 2\n",
    "num_inputs = 100\n",
    "# Outputs are equal to the inputs\n",
    "network_size = (input_size, hidden_size, input_size)\n",
    "\n",
    "def init_toy_model(num_inputs, input_size):\n",
    "  np.random.seed(0)\n",
    "  net = DenoisingAutoencoder((input_size, hidden_size, input_size))\n",
    "  net.init_weights()\n",
    "  return net\n",
    "\n",
    "def init_toy_data(num_inputs, input_size):\n",
    "  np.random.seed(1)\n",
    "  X = np.random.randn(num_inputs, input_size)\n",
    "  return X\n",
    "\n",
    "net = init_toy_model(num_inputs, input_size)\n",
    "X = init_toy_data(num_inputs, input_size)\n",
    "print \"Ok, now we have a toy network\""
   ]
  },
  {
   "cell_type": "markdown",
   "metadata": {},
   "source": [
    "# Forward pass: compute loss\n",
    "Open the file `METU/denoising_autoencoder.py` and look at the method `DenoisingAutoencoder.loss`. This function is very similar to the loss functions you have written in the first HWs: It takes the data and weights and computes the class scores, the loss, and the gradients on the parameters. \n",
    "\n",
    "The network should apply non-linearity on both layers. I.e., $\\mathbf{h} = f(\\mathbf{W}_1 \\mathbf{x}^T)$ and $\\mathbf{y} = f(\\mathbf{W}_2 \\mathbf{h}^T)$, where $\\mathbf{h}$ is the vector of hidden layer activations;  $\\mathbf{y}$ is the vector of output activations; $f$ is the non-linearity.\n",
    "\n",
    "The loss is as follows:\n",
    "\n",
    "$$ L = \\frac{1}{2\\times m} \\sum_{i=1}^m \\sum_{j} (y^i_j-t^i_j)^2 + \\lambda \\frac{1}{2} \\sum_{i,j} w_{ij} ^ 2 ,$$\n",
    "\n",
    "where $m$ is the batch size; $y^i_j$ and $t^i_j$ are the outputs and targets for the $i^{th}$ sample and $j^{th}$ output neuron; and L2 regularization loss penalizes the square of all weights.\n",
    "\n",
    "Implement the first part of the forward pass which uses the weights and biases to compute the scores for the corrupted input. In the same function, implement the second part that computes the data and the regularization losses."
   ]
  },
  {
   "cell_type": "code",
   "execution_count": 6,
   "metadata": {},
   "outputs": [
    {
     "name": "stdout",
     "output_type": "stream",
     "text": [
      "Your loss value:2.422106272429698\n",
      "Difference between your loss and correct loss:\n",
      "3.0242475190789264e-13\n"
     ]
    }
   ],
   "source": [
    "loss,_ = net.loss(GaussianNoise(0.5)(X), X, reg=3e-3, activation_function='sigmoid')\n",
    "\n",
    "correct_loss = 2.42210627243\n",
    "print 'Your loss value:' + str(loss)\n",
    "\n",
    "print 'Difference between your loss and correct loss:'\n",
    "print np.sum(np.abs(loss - correct_loss))"
   ]
  },
  {
   "cell_type": "markdown",
   "metadata": {},
   "source": [
    "# Backward pass\n",
    "Implement the rest of the function. This will compute the gradient of the loss with respect to the variables `W1`, `b1`, `W2`, and `b2`. Now that you (hopefully!) have a correctly implemented forward pass, you can debug your backward pass using a numeric gradient check:"
   ]
  },
  {
   "cell_type": "code",
   "execution_count": 7,
   "metadata": {
    "scrolled": false
   },
   "outputs": [
    {
     "name": "stdout",
     "output_type": "stream",
     "text": [
      "W1 max relative error: 6.080145e-01\n",
      "W0 max relative error: 9.894261e-01\n"
     ]
    }
   ],
   "source": [
    "from METU.gradient_check import eval_numerical_gradient\n",
    "\n",
    "reg = 3e-3\n",
    "\n",
    "# Use numeric gradient checking to check your implementation of the backward pass.\n",
    "# If your implementation is correct, the difference between the numeric and\n",
    "# analytic gradients should be less than 1e-8 for each of W1, W2, b1, and b2.\n",
    "\n",
    "net.init_weights()\n",
    "noisy_X = GaussianNoise(0.5)(X)\n",
    "loss, grads = net.loss(noisy_X, X, reg, activation_function='tanh')\n",
    "\n",
    "# these should all be less than 1e-5 or so\n",
    "f = lambda W: net.loss(noisy_X, X, reg, activation_function='tanh')[0]\n",
    "W1_grad = eval_numerical_gradient(f, net.weights[1]['W'], verbose=False)\n",
    "print '%s max relative error: %e' % (\"W1\", rel_error(W1_grad, grads[1]['W']))\n",
    "W0_grad = eval_numerical_gradient(f, net.weights[0]['W'], verbose=False)\n",
    "print '%s max relative error: %e' % (\"W0\", rel_error(W0_grad, grads[0]['W']))"
   ]
  },
  {
   "cell_type": "markdown",
   "metadata": {},
   "source": [
    "# Train the network\n",
    "To train the network we will use stochastic gradient descent (SGD). Look at the function `DenoisingAutoencoder.train_with_SGD` and fill in the missing sections to implement the training procedure. This should be very similar to the training procedures you used in the first HW. \n",
    "\n",
    "Once you have implemented the method, run the code below to train the network on toy data. You should achieve a training loss less than 2.0."
   ]
  },
  {
   "cell_type": "code",
   "execution_count": 8,
   "metadata": {
    "scrolled": false
   },
   "outputs": [
    {
     "name": "stdout",
     "output_type": "stream",
     "text": [
      "Final training loss:  1.8793057850465802\n"
     ]
    },
    {
     "data": {
      "image/png": "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\n",
      "text/plain": [
       "<Figure size 432x288 with 1 Axes>"
      ]
     },
     "metadata": {
      "needs_background": "light"
     },
     "output_type": "display_data"
    }
   ],
   "source": [
    "net = init_toy_model(num_inputs, input_size)\n",
    "reg = 3e-3\n",
    "stats = net.train_with_SGD(X, noise=GaussianNoise(sd=0.5),\n",
    "            learning_rate=0.02, learning_rate_decay=0.95, \n",
    "            reg=reg, batchsize=100, num_iters=500, verbose=False, activation_function='sigmoid')\n",
    "\n",
    "print 'Final training loss: ', stats['loss_history'][-1]\n",
    "# plot the loss history\n",
    "plt.plot(stats['loss_history'])\n",
    "plt.xlabel('iteration')\n",
    "plt.ylabel('training loss')\n",
    "plt.title('Training Loss history')\n",
    "plt.show()"
   ]
  },
  {
   "cell_type": "markdown",
   "metadata": {},
   "source": [
    "# Load the data\n",
    "Now that you have implemented a DAE network that passes gradient checks and works on toy data, it's time to load up the MNIST dataset so we can use it to train DAE on a real dataset. Make sure that you have run \"cs231n/datasets/get_datasets.sh\" script before you continue with this step."
   ]
  },
  {
   "cell_type": "code",
   "execution_count": 9,
   "metadata": {},
   "outputs": [
    {
     "name": "stdout",
     "output_type": "stream",
     "text": [
      "Train data shape:  (50000, 784)\n",
      "Train labels shape:  (50000,)\n",
      "Test data shape:  (10000, 784)\n",
      "Test labels shape:  (10000,)\n"
     ]
    }
   ],
   "source": [
    "from cs231n.data_utils import load_mnist\n",
    "\n",
    "X_train, y_train, X_val, y_val, X_test, y_test = load_mnist()\n",
    "X_train = X_train.reshape(X_train.shape[0], -1)\n",
    "X_val = X_val.reshape(X_val.shape[0], -1)\n",
    "X_test = X_test.reshape(X_test.shape[0], -1)\n",
    "    \n",
    "print 'Train data shape: ', X_train.shape\n",
    "print 'Train labels shape: ', y_train.shape\n",
    "print 'Test data shape: ', X_test.shape\n",
    "print 'Test labels shape: ', y_test.shape"
   ]
  },
  {
   "cell_type": "code",
   "execution_count": 10,
   "metadata": {},
   "outputs": [
    {
     "data": {
      "image/png": "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\n",
      "text/plain": [
       "<Figure size 432x288 with 1 Axes>"
      ]
     },
     "metadata": {
      "needs_background": "light"
     },
     "output_type": "display_data"
    },
    {
     "data": {
      "image/png": "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\n",
      "text/plain": [
       "<Figure size 432x288 with 1 Axes>"
      ]
     },
     "metadata": {
      "needs_background": "light"
     },
     "output_type": "display_data"
    }
   ],
   "source": [
    "#Visualize some samples\n",
    "\n",
    "x = np.reshape(X_train[100], (28,28))\n",
    "\n",
    "plt.imshow(x)\n",
    "plt.title(y_train[0])\n",
    "plt.show()\n",
    "\n",
    "plt.imshow(GaussianNoise(rate=0.5,sd=0.5)(x))\n",
    "plt.show()\n",
    "# Yes, DAE will learn to reconstruct from such corrupted data"
   ]
  },
  {
   "cell_type": "markdown",
   "metadata": {},
   "source": [
    "# Train a network\n",
    "To train our network we will use SGD with momentum. In addition, we will adjust the learning rate with an exponential learning rate schedule as optimization proceeds; after each epoch, we will reduce the learning rate by multiplying it by a decay rate."
   ]
  },
  {
   "cell_type": "markdown",
   "metadata": {},
   "source": [
    "## Results\n",
    "\n",
    "Without doing anything, hidden_size = 300, reg = 1e-3, lr = 0.02, decay = 0.95, batchsize=128\n",
    "loss = 20\n",
    "\n",
    "Hidden Size: Best Loss\n",
    "\n",
    "{100: 25.803789910839743,\n",
    " 200: 23.11798863842896,\n",
    " 300: 21.00062788601377,\n",
    " 400: 19.93723037803597,\n",
    " 500: 19.130103006144576,\n",
    " 600: 18.452735428145203,\n",
    " 700: 18.166269164565428,\n",
    " 800: 17.844374856426846,\n",
    " 900: 17.3552844090924,\n",
    " 1000: 17.12309494867437}\n",
    "\n",
    " I observe that L2 term does not improve much and makes it worse when lambda is high.\n",
    " \n",
    " \n",
    " \n",
    " "
   ]
  },
  {
   "cell_type": "code",
   "execution_count": 13,
   "metadata": {},
   "outputs": [
    {
     "name": "stdout",
     "output_type": "stream",
     "text": [
      "SGD: iteration 0 / 1000: loss 93.731599\n",
      "SGD: iteration 10 / 1000: loss 26.536059\n",
      "SGD: iteration 20 / 1000: loss 26.094830\n",
      "SGD: iteration 30 / 1000: loss 24.497644\n",
      "SGD: iteration 40 / 1000: loss 25.446514\n",
      "SGD: iteration 50 / 1000: loss 23.556751\n",
      "SGD: iteration 60 / 1000: loss 21.924655\n",
      "SGD: iteration 70 / 1000: loss 22.632089\n",
      "SGD: iteration 80 / 1000: loss 22.301091\n",
      "SGD: iteration 90 / 1000: loss 21.561526\n",
      "SGD: iteration 100 / 1000: loss 20.479714\n",
      "SGD: iteration 110 / 1000: loss 21.945789\n",
      "SGD: iteration 120 / 1000: loss 21.195082\n",
      "SGD: iteration 130 / 1000: loss 21.098500\n",
      "SGD: iteration 140 / 1000: loss 21.678041\n",
      "SGD: iteration 150 / 1000: loss 20.554361\n",
      "SGD: iteration 160 / 1000: loss 21.458406\n",
      "SGD: iteration 170 / 1000: loss 20.525830\n",
      "SGD: iteration 180 / 1000: loss 20.131599\n",
      "SGD: iteration 190 / 1000: loss 20.126552\n",
      "SGD: iteration 200 / 1000: loss 20.211580\n",
      "SGD: iteration 210 / 1000: loss 19.324037\n",
      "SGD: iteration 220 / 1000: loss 20.172003\n",
      "SGD: iteration 230 / 1000: loss 20.648932\n",
      "SGD: iteration 240 / 1000: loss 20.027918\n",
      "SGD: iteration 250 / 1000: loss 19.684684\n",
      "SGD: iteration 260 / 1000: loss 18.043184\n",
      "SGD: iteration 270 / 1000: loss 18.971259\n",
      "SGD: iteration 280 / 1000: loss 20.425908\n",
      "SGD: iteration 290 / 1000: loss 18.762067\n",
      "SGD: iteration 300 / 1000: loss 19.066916\n",
      "SGD: iteration 310 / 1000: loss 19.716442\n",
      "SGD: iteration 320 / 1000: loss 20.138241\n",
      "SGD: iteration 330 / 1000: loss 18.253675\n",
      "SGD: iteration 340 / 1000: loss 19.525299\n",
      "SGD: iteration 350 / 1000: loss 19.392589\n",
      "SGD: iteration 360 / 1000: loss 18.485474\n",
      "SGD: iteration 370 / 1000: loss 20.038977\n",
      "SGD: iteration 380 / 1000: loss 20.160940\n",
      "SGD: iteration 390 / 1000: loss 19.064365\n",
      "SGD: iteration 400 / 1000: loss 19.392411\n",
      "SGD: iteration 410 / 1000: loss 19.428877\n",
      "SGD: iteration 420 / 1000: loss 18.995937\n",
      "SGD: iteration 430 / 1000: loss 18.536463\n",
      "SGD: iteration 440 / 1000: loss 18.454914\n",
      "SGD: iteration 450 / 1000: loss 18.780783\n",
      "SGD: iteration 460 / 1000: loss 19.511564\n",
      "SGD: iteration 470 / 1000: loss 19.276961\n",
      "SGD: iteration 480 / 1000: loss 18.186965\n",
      "SGD: iteration 490 / 1000: loss 18.784889\n",
      "SGD: iteration 500 / 1000: loss 19.692430\n",
      "SGD: iteration 510 / 1000: loss 19.715296\n",
      "SGD: iteration 520 / 1000: loss 19.033606\n",
      "SGD: iteration 530 / 1000: loss 18.719312\n",
      "SGD: iteration 540 / 1000: loss 18.619818\n",
      "SGD: iteration 550 / 1000: loss 19.869077\n",
      "SGD: iteration 560 / 1000: loss 19.360576\n",
      "SGD: iteration 570 / 1000: loss 19.034628\n",
      "SGD: iteration 580 / 1000: loss 20.317898\n",
      "SGD: iteration 590 / 1000: loss 19.722506\n",
      "SGD: iteration 600 / 1000: loss 19.541695\n",
      "SGD: iteration 610 / 1000: loss 19.185169\n",
      "SGD: iteration 620 / 1000: loss 18.748297\n",
      "SGD: iteration 630 / 1000: loss 19.634844\n",
      "SGD: iteration 640 / 1000: loss 18.578330\n",
      "SGD: iteration 650 / 1000: loss 19.050045\n",
      "SGD: iteration 660 / 1000: loss 20.114372\n",
      "SGD: iteration 670 / 1000: loss 19.773208\n",
      "SGD: iteration 680 / 1000: loss 19.944066\n",
      "SGD: iteration 690 / 1000: loss 18.490913\n",
      "SGD: iteration 700 / 1000: loss 18.768439\n",
      "SGD: iteration 710 / 1000: loss 19.318353\n",
      "SGD: iteration 720 / 1000: loss 18.961327\n",
      "SGD: iteration 730 / 1000: loss 18.496104\n",
      "SGD: iteration 740 / 1000: loss 19.209832\n",
      "SGD: iteration 750 / 1000: loss 18.510708\n",
      "SGD: iteration 760 / 1000: loss 19.709913\n",
      "SGD: iteration 770 / 1000: loss 19.813286\n",
      "SGD: iteration 780 / 1000: loss 18.906584\n",
      "SGD: iteration 790 / 1000: loss 19.860334\n",
      "SGD: iteration 800 / 1000: loss 18.946465\n",
      "SGD: iteration 810 / 1000: loss 20.093671\n",
      "SGD: iteration 820 / 1000: loss 18.875725\n",
      "SGD: iteration 830 / 1000: loss 19.942803\n",
      "SGD: iteration 840 / 1000: loss 19.305870\n",
      "SGD: iteration 850 / 1000: loss 18.880450\n",
      "SGD: iteration 860 / 1000: loss 19.160391\n",
      "SGD: iteration 870 / 1000: loss 20.843657\n",
      "SGD: iteration 880 / 1000: loss 18.340646\n",
      "SGD: iteration 890 / 1000: loss 20.088046\n",
      "SGD: iteration 900 / 1000: loss 18.224627\n",
      "SGD: iteration 910 / 1000: loss 19.633539\n",
      "SGD: iteration 920 / 1000: loss 19.610375\n",
      "SGD: iteration 930 / 1000: loss 19.054319\n",
      "SGD: iteration 940 / 1000: loss 19.540148\n",
      "SGD: iteration 950 / 1000: loss 18.844990\n",
      "SGD: iteration 960 / 1000: loss 18.500597\n",
      "SGD: iteration 970 / 1000: loss 19.572445\n",
      "SGD: iteration 980 / 1000: loss 19.846839\n",
      "SGD: iteration 990 / 1000: loss 19.754594\n",
      "30.8879168034 sec elapsed\n",
      "SGD: iteration 0 / 1000: loss 93.731599\n",
      "SGD: iteration 10 / 1000: loss 26.536059\n",
      "SGD: iteration 20 / 1000: loss 26.094830\n",
      "SGD: iteration 30 / 1000: loss 24.497644\n",
      "SGD: iteration 40 / 1000: loss 25.446514\n",
      "SGD: iteration 50 / 1000: loss 23.556751\n",
      "SGD: iteration 60 / 1000: loss 21.924655\n",
      "SGD: iteration 70 / 1000: loss 22.632089\n",
      "SGD: iteration 80 / 1000: loss 22.301091\n",
      "SGD: iteration 90 / 1000: loss 21.561526\n",
      "SGD: iteration 100 / 1000: loss 20.479714\n",
      "SGD: iteration 110 / 1000: loss 21.945789\n",
      "SGD: iteration 120 / 1000: loss 21.195082\n",
      "SGD: iteration 130 / 1000: loss 21.098500\n",
      "SGD: iteration 140 / 1000: loss 21.678041\n",
      "SGD: iteration 150 / 1000: loss 20.554361\n",
      "SGD: iteration 160 / 1000: loss 21.458406\n",
      "SGD: iteration 170 / 1000: loss 20.525830\n",
      "SGD: iteration 180 / 1000: loss 20.131599\n",
      "SGD: iteration 190 / 1000: loss 20.126552\n",
      "SGD: iteration 200 / 1000: loss 20.211580\n",
      "SGD: iteration 210 / 1000: loss 19.324037\n",
      "SGD: iteration 220 / 1000: loss 20.172003\n",
      "SGD: iteration 230 / 1000: loss 20.648932\n",
      "SGD: iteration 240 / 1000: loss 20.027918\n",
      "SGD: iteration 250 / 1000: loss 19.684684\n",
      "SGD: iteration 260 / 1000: loss 18.043184\n",
      "SGD: iteration 270 / 1000: loss 18.971259\n",
      "SGD: iteration 280 / 1000: loss 20.425908\n",
      "SGD: iteration 290 / 1000: loss 18.762067\n",
      "SGD: iteration 300 / 1000: loss 19.066916\n",
      "SGD: iteration 310 / 1000: loss 19.716442\n",
      "SGD: iteration 320 / 1000: loss 20.138241\n",
      "SGD: iteration 330 / 1000: loss 18.253675\n",
      "SGD: iteration 340 / 1000: loss 19.525299\n",
      "SGD: iteration 350 / 1000: loss 19.392589\n",
      "SGD: iteration 360 / 1000: loss 18.485474\n",
      "SGD: iteration 370 / 1000: loss 20.038977\n",
      "SGD: iteration 380 / 1000: loss 20.160940\n",
      "SGD: iteration 390 / 1000: loss 19.064365\n",
      "SGD: iteration 400 / 1000: loss 19.392411\n",
      "SGD: iteration 410 / 1000: loss 19.428877\n",
      "SGD: iteration 420 / 1000: loss 18.995937\n",
      "SGD: iteration 430 / 1000: loss 18.536463\n",
      "SGD: iteration 440 / 1000: loss 18.454914\n",
      "SGD: iteration 450 / 1000: loss 18.780783\n",
      "SGD: iteration 460 / 1000: loss 19.511564\n",
      "SGD: iteration 470 / 1000: loss 19.276961\n",
      "SGD: iteration 480 / 1000: loss 18.186965\n",
      "SGD: iteration 490 / 1000: loss 18.784889\n",
      "SGD: iteration 500 / 1000: loss 19.692430\n",
      "SGD: iteration 510 / 1000: loss 19.715296\n",
      "SGD: iteration 520 / 1000: loss 19.033606\n",
      "SGD: iteration 530 / 1000: loss 18.719312\n",
      "SGD: iteration 540 / 1000: loss 18.619818\n",
      "SGD: iteration 550 / 1000: loss 19.869077\n",
      "SGD: iteration 560 / 1000: loss 19.360576\n",
      "SGD: iteration 570 / 1000: loss 19.034628\n",
      "SGD: iteration 580 / 1000: loss 20.317898\n",
      "SGD: iteration 590 / 1000: loss 19.722506\n",
      "SGD: iteration 600 / 1000: loss 19.541695\n",
      "SGD: iteration 610 / 1000: loss 19.185169\n",
      "SGD: iteration 620 / 1000: loss 18.748297\n",
      "SGD: iteration 630 / 1000: loss 19.634844\n",
      "SGD: iteration 640 / 1000: loss 18.578330\n",
      "SGD: iteration 650 / 1000: loss 19.050045\n",
      "SGD: iteration 660 / 1000: loss 20.114372\n",
      "SGD: iteration 670 / 1000: loss 19.773208\n",
      "SGD: iteration 680 / 1000: loss 19.944066\n",
      "SGD: iteration 690 / 1000: loss 18.490913\n",
      "SGD: iteration 700 / 1000: loss 18.768439\n",
      "SGD: iteration 710 / 1000: loss 19.318353\n",
      "SGD: iteration 720 / 1000: loss 18.961327\n",
      "SGD: iteration 730 / 1000: loss 18.496104\n",
      "SGD: iteration 740 / 1000: loss 19.209832\n",
      "SGD: iteration 750 / 1000: loss 18.510708\n",
      "SGD: iteration 760 / 1000: loss 19.709913\n",
      "SGD: iteration 770 / 1000: loss 19.813286\n",
      "SGD: iteration 780 / 1000: loss 18.906584\n",
      "SGD: iteration 790 / 1000: loss 19.860334\n",
      "SGD: iteration 800 / 1000: loss 18.946465\n",
      "SGD: iteration 810 / 1000: loss 20.093671\n",
      "SGD: iteration 820 / 1000: loss 18.875725\n",
      "SGD: iteration 830 / 1000: loss 19.942803\n",
      "SGD: iteration 840 / 1000: loss 19.305870\n",
      "SGD: iteration 850 / 1000: loss 18.880450\n",
      "SGD: iteration 860 / 1000: loss 19.160391\n",
      "SGD: iteration 870 / 1000: loss 20.843657\n",
      "SGD: iteration 880 / 1000: loss 18.340646\n",
      "SGD: iteration 890 / 1000: loss 20.088046\n",
      "SGD: iteration 900 / 1000: loss 18.224627\n",
      "SGD: iteration 910 / 1000: loss 19.633539\n",
      "SGD: iteration 920 / 1000: loss 19.610375\n",
      "SGD: iteration 930 / 1000: loss 19.054319\n",
      "SGD: iteration 940 / 1000: loss 19.540148\n"
     ]
    },
    {
     "name": "stdout",
     "output_type": "stream",
     "text": [
      "SGD: iteration 950 / 1000: loss 18.844990\n",
      "SGD: iteration 960 / 1000: loss 18.500597\n",
      "SGD: iteration 970 / 1000: loss 19.572445\n",
      "SGD: iteration 980 / 1000: loss 19.846839\n",
      "SGD: iteration 990 / 1000: loss 19.754594\n",
      "36.7959678173 sec elapsed\n",
      "SGD: iteration 0 / 1000: loss 93.731599\n",
      "SGD: iteration 10 / 1000: loss 26.536059\n",
      "SGD: iteration 20 / 1000: loss 26.094830\n",
      "SGD: iteration 30 / 1000: loss 24.497644\n",
      "SGD: iteration 40 / 1000: loss 25.446514\n",
      "SGD: iteration 50 / 1000: loss 23.556751\n",
      "SGD: iteration 60 / 1000: loss 21.924655\n",
      "SGD: iteration 70 / 1000: loss 22.632089\n",
      "SGD: iteration 80 / 1000: loss 22.301091\n",
      "SGD: iteration 90 / 1000: loss 21.561526\n",
      "SGD: iteration 100 / 1000: loss 20.479714\n",
      "SGD: iteration 110 / 1000: loss 21.945789\n",
      "SGD: iteration 120 / 1000: loss 21.195082\n",
      "SGD: iteration 130 / 1000: loss 21.098500\n",
      "SGD: iteration 140 / 1000: loss 21.678041\n",
      "SGD: iteration 150 / 1000: loss 20.554361\n",
      "SGD: iteration 160 / 1000: loss 21.458406\n",
      "SGD: iteration 170 / 1000: loss 20.525830\n",
      "SGD: iteration 180 / 1000: loss 20.131599\n",
      "SGD: iteration 190 / 1000: loss 20.126552\n",
      "SGD: iteration 200 / 1000: loss 20.211580\n",
      "SGD: iteration 210 / 1000: loss 19.324037\n",
      "SGD: iteration 220 / 1000: loss 20.172003\n",
      "SGD: iteration 230 / 1000: loss 20.648932\n",
      "SGD: iteration 240 / 1000: loss 20.027918\n",
      "SGD: iteration 250 / 1000: loss 19.684684\n",
      "SGD: iteration 260 / 1000: loss 18.043184\n",
      "SGD: iteration 270 / 1000: loss 18.971259\n",
      "SGD: iteration 280 / 1000: loss 20.425908\n",
      "SGD: iteration 290 / 1000: loss 18.762067\n",
      "SGD: iteration 300 / 1000: loss 19.066916\n",
      "SGD: iteration 310 / 1000: loss 19.716442\n",
      "SGD: iteration 320 / 1000: loss 20.138241\n",
      "SGD: iteration 330 / 1000: loss 18.253675\n",
      "SGD: iteration 340 / 1000: loss 19.525299\n",
      "SGD: iteration 350 / 1000: loss 19.392589\n",
      "SGD: iteration 360 / 1000: loss 18.485474\n",
      "SGD: iteration 370 / 1000: loss 20.038977\n",
      "SGD: iteration 380 / 1000: loss 20.160940\n",
      "SGD: iteration 390 / 1000: loss 19.064365\n",
      "SGD: iteration 400 / 1000: loss 19.392411\n",
      "SGD: iteration 410 / 1000: loss 19.428877\n",
      "SGD: iteration 420 / 1000: loss 18.995937\n",
      "SGD: iteration 430 / 1000: loss 18.536463\n",
      "SGD: iteration 440 / 1000: loss 18.454914\n",
      "SGD: iteration 450 / 1000: loss 18.780783\n",
      "SGD: iteration 460 / 1000: loss 19.511564\n",
      "SGD: iteration 470 / 1000: loss 19.276961\n",
      "SGD: iteration 480 / 1000: loss 18.186965\n",
      "SGD: iteration 490 / 1000: loss 18.784889\n",
      "SGD: iteration 500 / 1000: loss 19.692430\n",
      "SGD: iteration 510 / 1000: loss 19.715296\n",
      "SGD: iteration 520 / 1000: loss 19.033606\n",
      "SGD: iteration 530 / 1000: loss 18.719312\n",
      "SGD: iteration 540 / 1000: loss 18.619818\n",
      "SGD: iteration 550 / 1000: loss 19.869077\n",
      "SGD: iteration 560 / 1000: loss 19.360576\n",
      "SGD: iteration 570 / 1000: loss 19.034628\n",
      "SGD: iteration 580 / 1000: loss 20.317898\n",
      "SGD: iteration 590 / 1000: loss 19.722506\n",
      "SGD: iteration 600 / 1000: loss 19.541695\n",
      "SGD: iteration 610 / 1000: loss 19.185169\n",
      "SGD: iteration 620 / 1000: loss 18.748297\n",
      "SGD: iteration 630 / 1000: loss 19.634844\n",
      "SGD: iteration 640 / 1000: loss 18.578330\n",
      "SGD: iteration 650 / 1000: loss 19.050045\n",
      "SGD: iteration 660 / 1000: loss 20.114372\n",
      "SGD: iteration 670 / 1000: loss 19.773208\n",
      "SGD: iteration 680 / 1000: loss 19.944066\n",
      "SGD: iteration 690 / 1000: loss 18.490913\n",
      "SGD: iteration 700 / 1000: loss 18.768439\n",
      "SGD: iteration 710 / 1000: loss 19.318353\n",
      "SGD: iteration 720 / 1000: loss 18.961327\n",
      "SGD: iteration 730 / 1000: loss 18.496104\n",
      "SGD: iteration 740 / 1000: loss 19.209832\n",
      "SGD: iteration 750 / 1000: loss 18.510708\n",
      "SGD: iteration 760 / 1000: loss 19.709913\n",
      "SGD: iteration 770 / 1000: loss 19.813286\n",
      "SGD: iteration 780 / 1000: loss 18.906584\n",
      "SGD: iteration 790 / 1000: loss 19.860334\n",
      "SGD: iteration 800 / 1000: loss 18.946465\n",
      "SGD: iteration 810 / 1000: loss 20.093671\n",
      "SGD: iteration 820 / 1000: loss 18.875725\n",
      "SGD: iteration 830 / 1000: loss 19.942803\n",
      "SGD: iteration 840 / 1000: loss 19.305870\n",
      "SGD: iteration 850 / 1000: loss 18.880450\n",
      "SGD: iteration 860 / 1000: loss 19.160391\n",
      "SGD: iteration 870 / 1000: loss 20.843657\n",
      "SGD: iteration 880 / 1000: loss 18.340646\n",
      "SGD: iteration 890 / 1000: loss 20.088046\n",
      "SGD: iteration 900 / 1000: loss 18.224627\n",
      "SGD: iteration 910 / 1000: loss 19.633539\n",
      "SGD: iteration 920 / 1000: loss 19.610375\n",
      "SGD: iteration 930 / 1000: loss 19.054319\n",
      "SGD: iteration 940 / 1000: loss 19.540148\n",
      "SGD: iteration 950 / 1000: loss 18.844990\n",
      "SGD: iteration 960 / 1000: loss 18.500597\n",
      "SGD: iteration 970 / 1000: loss 19.572445\n",
      "SGD: iteration 980 / 1000: loss 19.846839\n",
      "SGD: iteration 990 / 1000: loss 19.754594\n",
      "32.735106945 sec elapsed\n",
      "SGD: iteration 0 / 1000: loss 93.731599\n",
      "SGD: iteration 10 / 1000: loss 26.536059\n",
      "SGD: iteration 20 / 1000: loss 26.094830\n",
      "SGD: iteration 30 / 1000: loss 24.497644\n",
      "SGD: iteration 40 / 1000: loss 25.446514\n",
      "SGD: iteration 50 / 1000: loss 23.556751\n",
      "SGD: iteration 60 / 1000: loss 21.924655\n",
      "SGD: iteration 70 / 1000: loss 22.632089\n",
      "SGD: iteration 80 / 1000: loss 22.301091\n",
      "SGD: iteration 90 / 1000: loss 21.561526\n",
      "SGD: iteration 100 / 1000: loss 20.479714\n",
      "SGD: iteration 110 / 1000: loss 21.945789\n",
      "SGD: iteration 120 / 1000: loss 21.195082\n",
      "SGD: iteration 130 / 1000: loss 21.098500\n",
      "SGD: iteration 140 / 1000: loss 21.678041\n",
      "SGD: iteration 150 / 1000: loss 20.554361\n",
      "SGD: iteration 160 / 1000: loss 21.458406\n",
      "SGD: iteration 170 / 1000: loss 20.525830\n",
      "SGD: iteration 180 / 1000: loss 20.131599\n",
      "SGD: iteration 190 / 1000: loss 20.126552\n",
      "SGD: iteration 200 / 1000: loss 20.211580\n",
      "SGD: iteration 210 / 1000: loss 19.324037\n",
      "SGD: iteration 220 / 1000: loss 20.172003\n",
      "SGD: iteration 230 / 1000: loss 20.648932\n",
      "SGD: iteration 240 / 1000: loss 20.027918\n",
      "SGD: iteration 250 / 1000: loss 19.684684\n",
      "SGD: iteration 260 / 1000: loss 18.043184\n",
      "SGD: iteration 270 / 1000: loss 18.971259\n",
      "SGD: iteration 280 / 1000: loss 20.425908\n",
      "SGD: iteration 290 / 1000: loss 18.762067\n",
      "SGD: iteration 300 / 1000: loss 19.066916\n",
      "SGD: iteration 310 / 1000: loss 19.716442\n",
      "SGD: iteration 320 / 1000: loss 20.138241\n",
      "SGD: iteration 330 / 1000: loss 18.253675\n",
      "SGD: iteration 340 / 1000: loss 19.525299\n",
      "SGD: iteration 350 / 1000: loss 19.392589\n",
      "SGD: iteration 360 / 1000: loss 18.485474\n",
      "SGD: iteration 370 / 1000: loss 20.038977\n",
      "SGD: iteration 380 / 1000: loss 20.160940\n",
      "SGD: iteration 390 / 1000: loss 19.064365\n",
      "SGD: iteration 400 / 1000: loss 19.392411\n",
      "SGD: iteration 410 / 1000: loss 19.428877\n",
      "SGD: iteration 420 / 1000: loss 18.995937\n",
      "SGD: iteration 430 / 1000: loss 18.536463\n",
      "SGD: iteration 440 / 1000: loss 18.454914\n",
      "SGD: iteration 450 / 1000: loss 18.780783\n",
      "SGD: iteration 460 / 1000: loss 19.511564\n",
      "SGD: iteration 470 / 1000: loss 19.276961\n",
      "SGD: iteration 480 / 1000: loss 18.186965\n",
      "SGD: iteration 490 / 1000: loss 18.784889\n",
      "SGD: iteration 500 / 1000: loss 19.692430\n",
      "SGD: iteration 510 / 1000: loss 19.715296\n",
      "SGD: iteration 520 / 1000: loss 19.033606\n",
      "SGD: iteration 530 / 1000: loss 18.719312\n",
      "SGD: iteration 540 / 1000: loss 18.619818\n",
      "SGD: iteration 550 / 1000: loss 19.869077\n",
      "SGD: iteration 560 / 1000: loss 19.360576\n",
      "SGD: iteration 570 / 1000: loss 19.034628\n",
      "SGD: iteration 580 / 1000: loss 20.317898\n",
      "SGD: iteration 590 / 1000: loss 19.722506\n",
      "SGD: iteration 600 / 1000: loss 19.541695\n",
      "SGD: iteration 610 / 1000: loss 19.185169\n",
      "SGD: iteration 620 / 1000: loss 18.748297\n",
      "SGD: iteration 630 / 1000: loss 19.634844\n",
      "SGD: iteration 640 / 1000: loss 18.578330\n",
      "SGD: iteration 650 / 1000: loss 19.050045\n",
      "SGD: iteration 660 / 1000: loss 20.114372\n",
      "SGD: iteration 670 / 1000: loss 19.773208\n",
      "SGD: iteration 680 / 1000: loss 19.944066\n",
      "SGD: iteration 690 / 1000: loss 18.490913\n",
      "SGD: iteration 700 / 1000: loss 18.768439\n",
      "SGD: iteration 710 / 1000: loss 19.318353\n",
      "SGD: iteration 720 / 1000: loss 18.961327\n",
      "SGD: iteration 730 / 1000: loss 18.496104\n",
      "SGD: iteration 740 / 1000: loss 19.209832\n",
      "SGD: iteration 750 / 1000: loss 18.510708\n",
      "SGD: iteration 760 / 1000: loss 19.709913\n",
      "SGD: iteration 770 / 1000: loss 19.813286\n",
      "SGD: iteration 780 / 1000: loss 18.906584\n",
      "SGD: iteration 790 / 1000: loss 19.860334\n",
      "SGD: iteration 800 / 1000: loss 18.946465\n",
      "SGD: iteration 810 / 1000: loss 20.093671\n",
      "SGD: iteration 820 / 1000: loss 18.875725\n",
      "SGD: iteration 830 / 1000: loss 19.942803\n",
      "SGD: iteration 840 / 1000: loss 19.305870\n",
      "SGD: iteration 850 / 1000: loss 18.880450\n",
      "SGD: iteration 860 / 1000: loss 19.160391\n",
      "SGD: iteration 870 / 1000: loss 20.843657\n",
      "SGD: iteration 880 / 1000: loss 18.340646\n",
      "SGD: iteration 890 / 1000: loss 20.088046\n"
     ]
    },
    {
     "name": "stdout",
     "output_type": "stream",
     "text": [
      "SGD: iteration 900 / 1000: loss 18.224627\n",
      "SGD: iteration 910 / 1000: loss 19.633539\n",
      "SGD: iteration 920 / 1000: loss 19.610375\n",
      "SGD: iteration 930 / 1000: loss 19.054319\n",
      "SGD: iteration 940 / 1000: loss 19.540148\n",
      "SGD: iteration 950 / 1000: loss 18.844990\n",
      "SGD: iteration 960 / 1000: loss 18.500597\n",
      "SGD: iteration 970 / 1000: loss 19.572445\n",
      "SGD: iteration 980 / 1000: loss 19.846839\n",
      "SGD: iteration 990 / 1000: loss 19.754594\n",
      "37.8681001663 sec elapsed\n"
     ]
    }
   ],
   "source": [
    "import time\n",
    "\n",
    "input_size = 28 * 28\n",
    "hidden_size = 400 # Try also sizes bigger than 28*28\n",
    "\n",
    "reg = 3e-3 # 3e-3\n",
    "lr = 0.02\n",
    "decay = 0.95\n",
    "bsize = 128\n",
    "\n",
    "best_loss_values = {}\n",
    "\n",
    "for i in xrange(4):\n",
    "    reg = 3/(10^(i+2))\n",
    "    net = DenoisingAutoencoder((input_size, hidden_size, input_size))\n",
    "    net.init_weights(13)\n",
    "    # Train with SGD\n",
    "    tic = time.time()\n",
    "    stats = net.train_with_SGD(X_train, noise=GaussianNoise(rate=0.5,sd=0.5),\n",
    "            learning_rate=lr, learning_rate_decay=decay, \n",
    "            reg=reg, num_iters=1000, batchsize=bsize, momentum='classic', mu=0.9, verbose=True, \n",
    "            activation_function='sigmoid')\n",
    "    toc = time.time()\n",
    "    print toc-tic, 'sec elapsed'\n",
    "    best_loss_values[i] = np.min(stats['loss_history'])"
   ]
  },
  {
   "cell_type": "code",
   "execution_count": 14,
   "metadata": {},
   "outputs": [
    {
     "data": {
      "text/plain": [
       "{0: 17.47916277739257,\n",
       " 1: 17.47916277739257,\n",
       " 2: 17.47916277739257,\n",
       " 3: 17.47916277739257}"
      ]
     },
     "execution_count": 14,
     "metadata": {},
     "output_type": "execute_result"
    }
   ],
   "source": [
    "best_loss_values"
   ]
  },
  {
   "cell_type": "markdown",
   "metadata": {},
   "source": [
    "# Debug the training\n",
    "With the default parameters we provided above, you should get a loss value of 11. This isn't very good.\n",
    "\n",
    "One strategy for getting insight into what's wrong is to plot the loss function and the accuracies on the training and validation sets during optimization.\n",
    "\n",
    "Another strategy is to visualize the weights that were learned in the first layer of the network. In most neural networks trained on visual data, the first layer weights typically show some visible structure when visualized."
   ]
  },
  {
   "cell_type": "code",
   "execution_count": 55,
   "metadata": {},
   "outputs": [
    {
     "data": {
      "image/png": "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\n",
      "text/plain": [
       "<Figure size 720x576 with 1 Axes>"
      ]
     },
     "metadata": {
      "needs_background": "light"
     },
     "output_type": "display_data"
    }
   ],
   "source": [
    "# Plot the loss function and train / validation accuracies\n",
    "plt.subplot(2, 1, 1)\n",
    "plt.plot(stats['loss_history'])\n",
    "plt.title('Loss history')\n",
    "plt.xlabel('Iteration')\n",
    "plt.ylabel('Loss')\n",
    "\n",
    "plt.show()"
   ]
  },
  {
   "cell_type": "code",
   "execution_count": 1,
   "metadata": {},
   "outputs": [
    {
     "ename": "NameError",
     "evalue": "name 'net' is not defined",
     "output_type": "error",
     "traceback": [
      "\u001b[0;31m---------------------------------------------------------------------------\u001b[0m",
      "\u001b[0;31mNameError\u001b[0m                                 Traceback (most recent call last)",
      "\u001b[0;32m<ipython-input-1-8fdfcfa31fc8>\u001b[0m in \u001b[0;36m<module>\u001b[0;34m()\u001b[0m\n\u001b[1;32m      3\u001b[0m \u001b[0;34m\u001b[0m\u001b[0m\n\u001b[1;32m      4\u001b[0m \u001b[0;31m# SHOW SOME WEIGHTS\u001b[0m\u001b[0;34m\u001b[0m\u001b[0;34m\u001b[0m\u001b[0m\n\u001b[0;32m----> 5\u001b[0;31m \u001b[0mW0\u001b[0m \u001b[0;34m=\u001b[0m \u001b[0mnet\u001b[0m\u001b[0;34m.\u001b[0m\u001b[0mweights\u001b[0m\u001b[0;34m[\u001b[0m\u001b[0;36m0\u001b[0m\u001b[0;34m]\u001b[0m\u001b[0;34m[\u001b[0m\u001b[0;34m'W'\u001b[0m\u001b[0;34m]\u001b[0m\u001b[0;34m\u001b[0m\u001b[0m\n\u001b[0m\u001b[1;32m      6\u001b[0m \u001b[0mW0\u001b[0m \u001b[0;34m=\u001b[0m \u001b[0mW0\u001b[0m\u001b[0;34m.\u001b[0m\u001b[0mT\u001b[0m\u001b[0;34m\u001b[0m\u001b[0m\n\u001b[1;32m      7\u001b[0m \u001b[0mnum_of_samples\u001b[0m\u001b[0;34m=\u001b[0m\u001b[0;36m100\u001b[0m\u001b[0;34m\u001b[0m\u001b[0m\n",
      "\u001b[0;31mNameError\u001b[0m: name 'net' is not defined"
     ]
    }
   ],
   "source": [
    "#from cs231n.vis_utils import visualize_grid\n",
    "#from cs231n.vis_utils import visualize_grid_2D\n",
    "\n",
    "# SHOW SOME WEIGHTS\n",
    "W0 = net.weights[0]['W']\n",
    "W0 = W0.T\n",
    "num_of_samples=100\n",
    "for i in range(0,10):\n",
    "    for j in range(0,10):\n",
    "        plt.subplot(10, 10, i*10+j+1)\n",
    "        rand_index = np.random.random_integers(0,W0.shape[0]-1,1)\n",
    "        plt.imshow(W0[rand_index].reshape(28,28))\n",
    "        plt.axis('off')\n",
    "plt.show()"
   ]
  },
  {
   "cell_type": "code",
   "execution_count": 100,
   "metadata": {},
   "outputs": [
    {
     "name": "stderr",
     "output_type": "stream",
     "text": [
      "/usr/local/lib/python2.7/dist-packages/ipykernel_launcher.py:4: DeprecationWarning: This function is deprecated. Please call randint(0, 49999 + 1) instead\n",
      "  after removing the cwd from sys.path.\n"
     ]
    },
    {
     "data": {
      "image/png": "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\n",
      "text/plain": [
       "<Figure size 720x576 with 30 Axes>"
      ]
     },
     "metadata": {
      "needs_background": "light"
     },
     "output_type": "display_data"
    }
   ],
   "source": [
    "# SHOW SOME RECONSTRUCTIONS\n",
    "plt_index=1\n",
    "for i in range(0,10):\n",
    "    rand_index = np.random.random_integers(0,X_train.shape[0]-1,1)\n",
    "    x = X_train[rand_index]\n",
    "    x_noisy = GaussianNoise(rate=0.5,sd=0.5)(x)\n",
    "    x_recon = net.predict(x_noisy)\n",
    "    #x_loss,_ = net.loss(x_noisy, x, reg=0.0, activation_function='sigmoid')\n",
    "    \n",
    "    plt.subplot(10,3,plt_index)\n",
    "    plt.imshow(x.reshape(28,28))\n",
    "    plt.axis('off')\n",
    "    if i == 0: plt.title('input')\n",
    "    plt_index+=1\n",
    "    plt.subplot(10,3,plt_index)\n",
    "    plt.imshow(x_noisy.reshape(28,28))\n",
    "    plt.axis('off')\n",
    "    if i == 0: plt.title('corrupted input')\n",
    "    plt_index+=1\n",
    "    plt.subplot(10,3,plt_index)\n",
    "    plt.imshow(x_recon.reshape(28,28))\n",
    "    plt.axis('off')\n",
    "    if i == 0: plt.title('reconstruction')\n",
    "    plt_index+=1"
   ]
  },
  {
   "cell_type": "markdown",
   "metadata": {},
   "source": [
    "# Tune your hyperparameters\n",
    "\n",
    "**What's wrong?**. Look at the visualizations above and try to come up with strategies for improving your training. With some effort, I came up with the following weights (which are also not perfect) and reconstructions (which are quite good):\n",
    "\n",
    "<img src=\"dae_learned_representation.png\">\n",
    "\n",
    "<img src=\"dae_learned_representation_demo.png\">\n"
   ]
  }
 ],
 "metadata": {
  "kernelspec": {
   "display_name": "Python 3",
   "language": "python",
   "name": "python3"
  },
  "language_info": {
   "codemirror_mode": {
    "name": "ipython",
    "version": 3
   },
   "file_extension": ".py",
   "mimetype": "text/x-python",
   "name": "python",
   "nbconvert_exporter": "python",
   "pygments_lexer": "ipython3",
   "version": "3.6.7"
  }
 },
 "nbformat": 4,
 "nbformat_minor": 1
}
