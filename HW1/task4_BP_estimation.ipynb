{
 "cells": [
  {
   "cell_type": "markdown",
   "metadata": {},
   "source": [
    "# A Neural Network for Regression (Estimate blood pressure from PPG signal)\n",
    "\n",
    "\n",
    "Having gained some experience with neural networks, let us train a network that estimates the blood pressure from a PPG signal window.\n",
    "\n",
    "All of your work for this exercise will be done in this notebook."
   ]
  },
  {
   "cell_type": "markdown",
   "metadata": {},
   "source": [
    "# A Photoplethysmograph (PPG) signal\n",
    "\n",
    "A PPG (photoplethysmograph) signal is a signal obtained with a pulse oximeter, which illuminates the skin and measures changes in light absorption. A PPG signal carries rich information about the status of the cardiovascular health of a person, such as breadth rate, heart rate and blood pressure. An example is shown below, where you also see the blood pressure signal that we will estimate (the data also has the ECG signal, which you should ignore).\n",
    "\n",
    "<img width=\"80%\" src=\"PPG_ABG_ECG_example.png\">\n",
    "\n",
    "\n",
    "# Preparing the Dataset \n",
    "\n",
    "In this task, you are expected to perform the full pipeline for creating a learning system from scratch. Here is how you should construct the dataset:\n",
    "* Download the dataset from the following website, and only take \"Part 1\" (since the whole dataset is too big): https://archive.ics.uci.edu/ml/datasets/Cuff-Less+Blood+Pressure+Estimation\n",
    "* Take a window of size $W$ from the PPG channel between time $t$ and $t+W$. Let us call this $\\textbf{x}_t$.\n",
    "* Take the corresponding window of size $W$ from the ABP (arterial blood pressure) channel between time $t$ and $t+W$. Find the maxima and minima of this signal within the window (you can use \"findpeaks\" from Matlab or \"find_peaks_cwt\" from scipy). Here is an example window from the ABP signal, and its peaks:\n",
    " <img width=\"60%\" src=\"ABP_peaks.png\">\n",
    "    \n",
    "* Calculate the average of the maxima, call it $y^1_t$, and the average of the minima, call it $y^2_t$.\n",
    "* Slide the window (by an amount that is on the order of a few samples) over the PPG signals and collect many training instances of the form $\\{\\textbf{x}_t, <y^1_t, y^2_t>\\}$ instances. \n",
    "* This will be your input-output for training the network. In other words, your network outputs two values."
   ]
  },
  {
   "cell_type": "code",
   "execution_count": 1,
   "metadata": {},
   "outputs": [],
   "source": [
    "import random\n",
    "import numpy as np\n",
    "from ceng783.utils import load_BP_dataset\n",
    "import matplotlib.pyplot as plt\n",
    "%matplotlib inline\n",
    "plt.rcParams['figure.figsize'] = (10.0, 8.0) # set default size of plots\n",
    "plt.rcParams['image.interpolation'] = 'nearest'\n",
    "plt.rcParams['image.cmap'] = 'gray'\n",
    "\n",
    "# for auto-reloading extenrnal modules\n",
    "# see http://stackoverflow.com/questions/1907993/autoreload-of-modules-in-ipython\n",
    "%load_ext autoreload\n",
    "%autoreload 2\n",
    "\n",
    "def rel_error(x, y):\n",
    "  \"\"\" returns relative error \"\"\"\n",
    "  return np.max(np.abs(x - y) / (np.maximum(1e-8, np.abs(x) + np.abs(y))))"
   ]
  },
  {
   "cell_type": "code",
   "execution_count": 2,
   "metadata": {},
   "outputs": [],
   "source": [
    "# Create a small net and some toy data to check your implementations.\n",
    "# Note that we set the random seed for repeatable experiments.\n",
    "from ceng783.neural_net_for_regression import TwoLayerNet\n",
    "\n",
    "input_size = 4\n",
    "hidden_size = 10\n",
    "num_classes = 3\n",
    "num_inputs = 5\n",
    "\n",
    "def init_toy_model():\n",
    "  np.random.seed(0)\n",
    "  return TwoLayerNet(input_size, hidden_size, num_classes, std=1e-1)\n",
    "\n",
    "def init_toy_data():\n",
    "  np.random.seed(1)\n",
    "  X = 10 * np.random.randn(num_inputs, input_size)\n",
    "  y = np.array([[0, 1, 2], [1, 2, 3], [2, 3, 4], [2, 1, 4], [2, 1, 4]])\n",
    "  return X, y\n",
    "\n",
    "net = init_toy_model()\n",
    "X, y = init_toy_data()"
   ]
  },
  {
   "cell_type": "markdown",
   "metadata": {},
   "source": [
    "# Forward pass: compute scores\n",
    "Open the file `ceng783/neural_net_for_regression.py` and look at the method `TwoLayerNet.loss`. This function is very similar to the loss functions you have written for the previous exercises: It takes the data and weights and computes the *regression* scores, the *squared error loss*, and the gradients on the parameters. \n",
    "\n",
    "To be more specific, you will implement the following loss function:\n",
    "\n",
    "$$\\frac{1}{N}\\frac{1}{2}\\sum_i\\sum_{j} (o_{ij} - y_{ij})^2 + \\lambda\\frac{1}{2}\\sum_j w_j^2,$$\n",
    "\n",
    "where $i$ runs through the $N$ samples in the batch; $o_{ij}$ is the prediction of the network for the $i^{th}$ sample for output $j$, and $y_{ij}$ is the correct value; $\\lambda$ is the weight of the regularization term.\n",
    "\n",
    "The first layer uses ReLU as the activation function. The output layer does not use any activation functions.\n",
    "\n",
    "Implement the first part of the forward pass which uses the weights and biases to compute the scores for all inputs."
   ]
  },
  {
   "cell_type": "code",
   "execution_count": 3,
   "metadata": {},
   "outputs": [
    {
     "name": "stdout",
     "output_type": "stream",
     "text": [
      "Your scores:\n",
      "[[-0.81233741 -1.27654624 -0.70335995]\n",
      " [-0.17129677 -1.18803311 -0.47310444]\n",
      " [-0.51590475 -1.01354314 -0.8504215 ]\n",
      " [-0.15419291 -0.48629638 -0.52901952]\n",
      " [-0.00618733 -0.12435261 -0.15226949]]\n",
      "\n",
      "correct scores:\n",
      "[[-0.81233741 -1.27654624 -0.70335995]\n",
      " [-0.17129677 -1.18803311 -0.47310444]\n",
      " [-0.51590475 -1.01354314 -0.8504215 ]\n",
      " [-0.15419291 -0.48629638 -0.52901952]\n",
      " [-0.00618733 -0.12435261 -0.15226949]]\n",
      "\n",
      "Difference between your scores and correct scores:\n",
      "3.6802720745909845e-08\n"
     ]
    }
   ],
   "source": [
    "scores = net.loss(X)\n",
    "print 'Your scores:'\n",
    "print scores\n",
    "print\n",
    "print 'correct scores:'\n",
    "correct_scores = np.asarray([\n",
    "  [-0.81233741, -1.27654624, -0.70335995],\n",
    "  [-0.17129677, -1.18803311, -0.47310444],\n",
    "  [-0.51590475, -1.01354314, -0.8504215 ],\n",
    "  [-0.15419291, -0.48629638, -0.52901952],\n",
    "  [-0.00618733, -0.12435261, -0.15226949]])\n",
    "print correct_scores\n",
    "print\n",
    "\n",
    "# The difference should be very small. We get < 1e-7\n",
    "print 'Difference between your scores and correct scores:'\n",
    "print np.sum(np.abs(scores - correct_scores))"
   ]
  },
  {
   "cell_type": "markdown",
   "metadata": {},
   "source": [
    "# Forward pass: compute loss\n",
    "In the same function, implement the second part that computes the data and regularizaion loss."
   ]
  },
  {
   "cell_type": "code",
   "execution_count": 4,
   "metadata": {},
   "outputs": [
    {
     "name": "stdout",
     "output_type": "stream",
     "text": [
      "Your loss:  13.298479809544318\n",
      "Difference between your loss and correct loss:\n",
      "4.431832678619685e-11\n"
     ]
    }
   ],
   "source": [
    "loss, _ = net.loss(X, y, reg=0.1)\n",
    "print \"Your loss: \", loss\n",
    "correct_loss = 13.2984798095\n",
    "\n",
    "# should be very small, we get < 1e-10\n",
    "print 'Difference between your loss and correct loss:'\n",
    "print np.sum(np.abs(loss - correct_loss))"
   ]
  },
  {
   "cell_type": "markdown",
   "metadata": {},
   "source": [
    "# Backward pass\n",
    "Implement the rest of the function. This will compute the gradient of the loss with respect to the variables `W1`, `b1`, `W2`, and `b2`. Now that you (hopefully!) have a correctly implemented forward pass, you can debug your backward pass using a numeric gradient check:"
   ]
  },
  {
   "cell_type": "code",
   "execution_count": 8,
   "metadata": {},
   "outputs": [
    {
     "name": "stdout",
     "output_type": "stream",
     "text": [
      "W1 max relative error: 5.459961e-04\n",
      "W2 max relative error: 3.756381e-04\n",
      "b2 max relative error: 1.443346e-06\n",
      "b1 max relative error: 2.183012e-07\n"
     ]
    }
   ],
   "source": [
    "from ceng783.utils import eval_numerical_gradient\n",
    "\n",
    "# Use numeric gradient checking to check your implementation of the backward pass.\n",
    "# If your implementation is correct, the difference between the numeric and\n",
    "# analytic gradients should be less than 1e-8 for each of W1, W2, b1, and b2.\n",
    "\n",
    "loss, grads = net.loss(X, y, reg=0.1)\n",
    "\n",
    "# these should all be less than 1e-8 or so\n",
    "for param_name in grads:\n",
    "  f = lambda W: net.loss(X, y, reg=0.1)[0]\n",
    "  param_grad_num = eval_numerical_gradient(f, net.params[param_name])\n",
    "  print '%s max relative error: %e' % (param_name, rel_error(param_grad_num, grads[param_name]))"
   ]
  },
  {
   "cell_type": "markdown",
   "metadata": {},
   "source": [
    "# Load the PPG dataset for training your regression network"
   ]
  },
  {
   "cell_type": "code",
   "execution_count": 147,
   "metadata": {},
   "outputs": [
    {
     "name": "stdout",
     "output_type": "stream",
     "text": [
      "Number of instances in the training set:  74496600\n",
      "Number of instances in the validation set:  827740\n",
      "Number of instances in the testing set:  4966440\n"
     ]
    }
   ],
   "source": [
    "# Load the PPG dataset\n",
    "# If your memory turns out to be sufficient, try loading a subset\n",
    "#\n",
    "# TODO: Open up ceng783/utils.py and fill in the `load_BP_dataset()' function.\n",
    "#\n",
    "def get_data(datafile, training_ratio=0.9, test_ratio=0.06, val_ratio=0.01):\n",
    "  # Load the PPG training data \n",
    "  X, y = load_BP_dataset(datafile)\n",
    "    \n",
    "  ################################################################\n",
    "  # TODO: Split the data into training, validation and test sets #\n",
    "  ################################################################\n",
    "  X_train = X[0:int(X.shape[0]*training_ratio)]\n",
    "  y_train = y[0:int(y.shape[0]*training_ratio)]\n",
    "  X_val = X[int(X.shape[0]*training_ratio):int(X.shape[0]*(training_ratio+val_ratio))]\n",
    "  y_val = y[int(y.shape[0]*training_ratio):int(y.shape[0]*(training_ratio+val_ratio))]\n",
    "  X_test = X[int(X.shape[0]*(training_ratio+val_ratio)):int(X.shape[0]*(training_ratio+val_ratio+test_ratio))]\n",
    "  y_test = y[int(y.shape[0]*(training_ratio+val_ratio)):int(y.shape[0]*(training_ratio+val_ratio+test_ratio))]\n",
    "  #########    END OF YOUR CODE    ###############################\n",
    "  ################################################################\n",
    "  \n",
    "  return X_train, y_train, X_val, y_val, X_test, y_test\n",
    "\n",
    "datafile = 'Part_1.mat' #TODO: PATH to your data file\n",
    "input_size = 1000 # TODO: Size of the input of the network\n",
    "\n",
    "X_train, y_train, X_val, y_val, X_test, y_test = get_data(datafile)\n",
    "print \"Number of instances in the training set: \", len(X_train)\n",
    "print \"Number of instances in the validation set: \", len(X_val)\n",
    "print \"Number of instances in the testing set: \", len(X_test)"
   ]
  },
  {
   "cell_type": "code",
   "execution_count": 375,
   "metadata": {},
   "outputs": [],
   "source": [
    "# data is huge, so we reduce it\n",
    "X_train_norm = X_train[0:8000]\n",
    "X_test_norm = X_test[10000:12000]\n",
    "X_val_norm = X_train[8000:9100]\n",
    "y_train_norm = y_train[0:8000]\n",
    "y_test_norm = y_train[10000:12000]\n",
    "y_val_norm = y_train[8000:9100]\n",
    "#\n",
    "# I was taking validation set very far away from training set in this huge dataset\n",
    "# It exploded my validation error. It was like\n",
    "# [Train....................................................|val.......|test]\n",
    "# So they differ too much. I corrected it like\n",
    "# [Train|val|test..........................................................]\n",
    "# I checked that first 61000 data is from the same patient, i guess. So it is safe to that point."
   ]
  },
  {
   "cell_type": "code",
   "execution_count": 343,
   "metadata": {},
   "outputs": [],
   "source": [
    "#X_train_norm = X_train_reduced-np.mean(X_train_reduced)\n",
    "#X_test_norm = X_test_reduced-np.mean(X_test_reduced)\n",
    "#X_val_norm = X_val_reduced-np.mean(X_val_reduced)\n",
    "#y_train_norm = y_train_reduced-np.mean(y_train_reduced)\n",
    "#y_test_norm = y_test_reduced#-np.mean(y_test_reduced)\n",
    "#y_val_norm = y_val_reduced-np.mean(y_val_reduced)\n",
    "# \n",
    "# Because of this commentet part my loss was never improving, staying in hundreds.\n",
    "#  I thought substracting mean is a good idea, guess im doing something wrong\n",
    "# for convenient, above cell data named as _norm, for the rest of the \n",
    "# Now I see that it would be better to substract the whole mean of datas.\n",
    "# not the mean of each of them individually"
   ]
  },
  {
   "cell_type": "code",
   "execution_count": 372,
   "metadata": {},
   "outputs": [],
   "source": [
    "from scipy import signal"
   ]
  },
  {
   "cell_type": "code",
   "execution_count": 373,
   "metadata": {},
   "outputs": [],
   "source": [
    "def preparepeaks(y):\n",
    "    peakind = signal.find_peaks_cwt(y, np.arange(1,10))\n",
    "    max_avg = np.mean(y[peakind])\n",
    "    peakind = signal.find_peaks_cwt(-y, np.arange(1,10))\n",
    "    min_avg = np.mean(y[peakind])\n",
    "    return max_avg, min_avg\n"
   ]
  },
  {
   "cell_type": "code",
   "execution_count": 377,
   "metadata": {},
   "outputs": [],
   "source": [
    "stride = 2\n",
    "y_train_peaks = np.zeros(((((y_train_norm.shape[0]-input_size)/stride)+1),2))\n",
    "for i in range(y_train_peaks.shape[0]):\n",
    "    y_train_peaks[i,:] = preparepeaks(y_train_norm[stride*i:(stride*i)+input_size])\n"
   ]
  },
  {
   "cell_type": "code",
   "execution_count": 376,
   "metadata": {},
   "outputs": [],
   "source": [
    "y_val_peaks = np.zeros(((((y_val_norm.shape[0]-input_size)/stride)+1),2))\n",
    "for i in range(y_val_peaks.shape[0]):\n",
    "    y_val_peaks[i,:] = preparepeaks(y_val_norm[stride*i:(stride*i)+input_size])"
   ]
  },
  {
   "cell_type": "code",
   "execution_count": 378,
   "metadata": {},
   "outputs": [],
   "source": [
    "y_test_peaks = np.zeros(((((y_test_norm.shape[0]-input_size)/stride)+1),2))\n",
    "for i in range(y_val_peaks.shape[0]):\n",
    "    y_test_peaks[i,:] = preparepeaks(y_test_norm[stride*i:(stride*i)+input_size])"
   ]
  },
  {
   "cell_type": "code",
   "execution_count": 379,
   "metadata": {},
   "outputs": [],
   "source": [
    "X_train_final = np.zeros(((((X_train_norm.shape[0]-input_size)/stride)+1),input_size))\n",
    "for i in range(X_train_final.shape[0]):\n",
    "    X_train_final[i,:] = X_train_norm[stride*i:(stride*i)+input_size]"
   ]
  },
  {
   "cell_type": "code",
   "execution_count": 380,
   "metadata": {},
   "outputs": [],
   "source": [
    "X_val_final = np.zeros(((((X_val_norm.shape[0]-input_size)/stride)+1),input_size))\n",
    "for i in range(X_val_final.shape[0]):\n",
    "    X_val_final[i,:] = X_val_norm[stride*i:(stride*i)+input_size]"
   ]
  },
  {
   "cell_type": "code",
   "execution_count": 381,
   "metadata": {},
   "outputs": [],
   "source": [
    "X_test_final = np.zeros(((((X_test_norm.shape[0]-input_size)/stride)+1),input_size))\n",
    "for i in range(X_test_final.shape[0]):\n",
    "    X_test_final[i,:] = X_test_norm[stride*i:(stride*i)+input_size]"
   ]
  },
  {
   "cell_type": "code",
   "execution_count": 382,
   "metadata": {},
   "outputs": [
    {
     "name": "stdout",
     "output_type": "stream",
     "text": [
      "(3501, 1000)\n",
      "(3501, 2)\n",
      "(51, 1000)\n",
      "(51, 2)\n",
      "(501, 1000)\n",
      "(501, 2)\n"
     ]
    }
   ],
   "source": [
    "print X_train_final.shape\n",
    "print y_train_peaks.shape\n",
    "print X_val_final.shape\n",
    "print y_val_peaks.shape\n",
    "print X_test_final.shape\n",
    "print y_test_peaks.shape\n"
   ]
  },
  {
   "cell_type": "code",
   "execution_count": 385,
   "metadata": {},
   "outputs": [
    {
     "data": {
      "text/plain": [
       "[<matplotlib.lines.Line2D at 0x7f8d7d656fd0>]"
      ]
     },
     "execution_count": 385,
     "metadata": {},
     "output_type": "execute_result"
    },
    {
     "data": {
      "image/png": "[encoded data removed]",
      "text/plain": [
       "<Figure size 432x288 with 1 Axes>"
      ]
     },
     "metadata": {
      "needs_background": "light"
     },
     "output_type": "display_data"
    }
   ],
   "source": [
    "plt.plot(y_train_norm)"
   ]
  },
  {
   "cell_type": "markdown",
   "metadata": {},
   "source": [
    "# Now train our network on the PPG dataset"
   ]
  },
  {
   "cell_type": "code",
   "execution_count": 388,
   "metadata": {
    "scrolled": false
   },
   "outputs": [
    {
     "name": "stdout",
     "output_type": "stream",
     "text": [
      "iteration 0 / 5000: loss 9389.512277\n",
      "iteration 100 / 5000: loss 846.460265\n",
      "iteration 200 / 5000: loss 18.547189\n",
      "iteration 300 / 5000: loss 13.813523\n",
      "iteration 400 / 5000: loss 12.472724\n",
      "iteration 500 / 5000: loss 13.233495\n",
      "iteration 600 / 5000: loss 11.414411\n",
      "iteration 700 / 5000: loss 11.556465\n",
      "iteration 800 / 5000: loss 18.466154\n",
      "iteration 900 / 5000: loss 17.152205\n",
      "iteration 1000 / 5000: loss 10.333328\n",
      "iteration 1100 / 5000: loss 14.781721\n",
      "iteration 1200 / 5000: loss 11.804710\n",
      "iteration 1300 / 5000: loss 19.470785\n",
      "iteration 1400 / 5000: loss 14.915373\n",
      "iteration 1500 / 5000: loss 18.479421\n",
      "iteration 1600 / 5000: loss 17.605931\n",
      "iteration 1700 / 5000: loss 15.275048\n",
      "iteration 1800 / 5000: loss 12.143538\n",
      "iteration 1900 / 5000: loss 21.086473\n",
      "iteration 2000 / 5000: loss 13.151418\n",
      "iteration 2100 / 5000: loss 18.695193\n",
      "iteration 2200 / 5000: loss 14.469608\n",
      "iteration 2300 / 5000: loss 11.474795\n",
      "iteration 2400 / 5000: loss 12.484774\n",
      "iteration 2500 / 5000: loss 13.508938\n",
      "iteration 2600 / 5000: loss 14.369119\n",
      "iteration 2700 / 5000: loss 15.236286\n",
      "iteration 2800 / 5000: loss 16.134076\n",
      "iteration 2900 / 5000: loss 15.679284\n",
      "iteration 3000 / 5000: loss 16.024461\n",
      "iteration 3100 / 5000: loss 11.742060\n",
      "iteration 3200 / 5000: loss 15.137182\n",
      "iteration 3300 / 5000: loss 12.212599\n",
      "iteration 3400 / 5000: loss 14.461644\n",
      "iteration 3500 / 5000: loss 14.324792\n",
      "iteration 3600 / 5000: loss 17.185766\n",
      "iteration 3700 / 5000: loss 16.098896\n",
      "iteration 3800 / 5000: loss 14.528071\n",
      "iteration 3900 / 5000: loss 11.784937\n",
      "iteration 4000 / 5000: loss 17.185092\n",
      "iteration 4100 / 5000: loss 13.366335\n",
      "iteration 4200 / 5000: loss 11.761413\n",
      "iteration 4300 / 5000: loss 14.704602\n",
      "iteration 4400 / 5000: loss 18.290208\n",
      "iteration 4500 / 5000: loss 17.274311\n",
      "iteration 4600 / 5000: loss 17.413574\n",
      "iteration 4700 / 5000: loss 15.324173\n",
      "iteration 4800 / 5000: loss 12.614210\n",
      "iteration 4900 / 5000: loss 15.160405\n",
      "Validation error:  2.228395657063024\n"
     ]
    }
   ],
   "source": [
    "# Now, let's train a neural network\n",
    "\n",
    "input_size = input_size\n",
    "hidden_size = 1000 # TODO: Choose a suitable hidden layer size\n",
    "num_classes = 2 # We have two outputs\n",
    "net = TwoLayerNet(input_size, hidden_size, num_classes)\n",
    "\n",
    "# Train the network\n",
    "stats = net.train(X_train_final, y_train_peaks, X_val_final, y_val_peaks,\n",
    "            num_iters=5000, batch_size=32,\n",
    "            learning_rate=1e-5, learning_rate_decay=0.95,\n",
    "            reg=0.005, verbose=True)\n",
    "\n",
    "# Predict on the validation set\n",
    "#val_err = ... # TODO: Perform prediction on the validation set\n",
    "val_err = np.sum(np.square(net.predict(X_val_final) - y_val_peaks), axis=1).mean()\n",
    "print 'Validation error: ', val_err"
   ]
  },
  {
   "cell_type": "markdown",
   "metadata": {},
   "source": [
    "# Debug the training and improve learning\n",
    "You should be able to get a validation error of ~16.\n",
    "\n",
    "So far so good. But, is it really good? Let us plot the validation and training errors to see how good the network did. Did it memorize or generalize? Discuss your observations and conclusions. If its performance is not looking good, propose and test measures. This is the part that will show me how well you have digested everything covered in the lectures."
   ]
  },
  {
   "cell_type": "code",
   "execution_count": 389,
   "metadata": {},
   "outputs": [
    {
     "data": {
      "image/png": "[encoded data removed]",
      "text/plain": [
       "<Figure size 432x288 with 2 Axes>"
      ]
     },
     "metadata": {
      "needs_background": "light"
     },
     "output_type": "display_data"
    }
   ],
   "source": [
    "# Plot the loss function and train / validation errors\n",
    "plt.subplot(2, 1, 1)\n",
    "plt.plot(stats['loss_history'])\n",
    "plt.title('Loss history')\n",
    "plt.xlabel('Iteration')\n",
    "plt.ylabel('Loss')\n",
    "\n",
    "plt.subplot(2, 1, 2)\n",
    "train = plt.plot(stats['train_err_history'], label='train')\n",
    "val = plt.plot(stats['val_err_history'], label='val')\n",
    "plt.legend(loc='upper right', shadow=True)\n",
    "plt.title('Classification error history')\n",
    "plt.xlabel('Epoch')\n",
    "plt.ylabel('Clasification error')\n",
    "plt.show()"
   ]
  },
  {
   "cell_type": "markdown",
   "metadata": {},
   "source": [
    "# Finetuning and Improving Your Network (Bonus)\n",
    "There are many aspects and hyper-parameters you can play with. Do play with them and find the best setting here."
   ]
  },
  {
   "cell_type": "code",
   "execution_count": null,
   "metadata": {},
   "outputs": [],
   "source": []
  }
 ],
 "metadata": {
  "kernelspec": {
   "display_name": "Python 2",
   "language": "python",
   "name": "python2"
  },
  "language_info": {
   "codemirror_mode": {
    "name": "ipython",
    "version": 2
   },
   "file_extension": ".py",
   "mimetype": "text/x-python",
   "name": "python",
   "nbconvert_exporter": "python",
   "pygments_lexer": "ipython2",
   "version": "2.7.12"
  }
 },
 "nbformat": 4,
 "nbformat_minor": 1
}
